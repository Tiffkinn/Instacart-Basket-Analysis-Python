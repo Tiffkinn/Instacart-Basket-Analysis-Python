{
 "cells": [
  {
   "cell_type": "markdown",
   "id": "80d15699-4fa2-4581-9912-351b78f10326",
   "metadata": {},
   "source": [
    "# 01.Importing libraries"
   ]
  },
  {
   "cell_type": "code",
   "execution_count": 2,
   "id": "b0f7c44c-e613-4172-82fd-367528c18b3c",
   "metadata": {},
   "outputs": [],
   "source": [
    "# Import libraries\n",
    "import pandas as pd\n",
    "import numpy as np\n",
    "import os"
   ]
  },
  {
   "cell_type": "markdown",
   "id": "b8d3bcd5-3caf-4ab8-842c-62e911983e23",
   "metadata": {},
   "source": [
    "# 02 Working with data types in Python"
   ]
  },
  {
   "cell_type": "markdown",
   "id": "89590d91-56a5-4671-b177-d76f04c8c7ea",
   "metadata": {},
   "source": [
    "## 02.1 Code 3 different ways of reaching a result of 100 with addition and subtraction"
   ]
  },
  {
   "cell_type": "code",
   "execution_count": 4,
   "id": "e84018d1-9157-4766-9527-c008b92bd03a",
   "metadata": {},
   "outputs": [],
   "source": [
    "x = 5"
   ]
  },
  {
   "cell_type": "code",
   "execution_count": 6,
   "id": "9c9aa144-c314-4beb-8b00-e3e1ae1097aa",
   "metadata": {},
   "outputs": [],
   "source": [
    "y = 95"
   ]
  },
  {
   "cell_type": "code",
   "execution_count": 7,
   "id": "68cd5abc-235d-45f4-aa30-8c23fd812c60",
   "metadata": {},
   "outputs": [
    {
     "data": {
      "text/plain": [
       "100"
      ]
     },
     "execution_count": 7,
     "metadata": {},
     "output_type": "execute_result"
    }
   ],
   "source": [
    "x + y"
   ]
  },
  {
   "cell_type": "code",
   "execution_count": 8,
   "id": "72d6f4e0-253e-4bbf-92e9-95646218722f",
   "metadata": {},
   "outputs": [],
   "source": [
    "x = 195"
   ]
  },
  {
   "cell_type": "code",
   "execution_count": 9,
   "id": "ac69d79e-c390-4067-8abe-330b2677760e",
   "metadata": {},
   "outputs": [
    {
     "data": {
      "text/plain": [
       "100"
      ]
     },
     "execution_count": 9,
     "metadata": {},
     "output_type": "execute_result"
    }
   ],
   "source": [
    "x - y"
   ]
  },
  {
   "cell_type": "code",
   "execution_count": 10,
   "id": "f177b3bb-33b0-4a39-90e4-05d080ec58f0",
   "metadata": {},
   "outputs": [],
   "source": [
    "x = -5"
   ]
  },
  {
   "cell_type": "code",
   "execution_count": 11,
   "id": "4f831443-3680-4fca-a5f8-910796e47e01",
   "metadata": {},
   "outputs": [
    {
     "data": {
      "text/plain": [
       "100"
      ]
     },
     "execution_count": 11,
     "metadata": {},
     "output_type": "execute_result"
    }
   ],
   "source": [
    "y - x"
   ]
  },
  {
   "cell_type": "markdown",
   "id": "f3969595-75fc-495d-bf32-d4eeeb9a527f",
   "metadata": {},
   "source": [
    "## 02.2 Code 2 floating-point variables and divide them by each other"
   ]
  },
  {
   "cell_type": "code",
   "execution_count": 12,
   "id": "8a072960-719b-445c-8d43-f1376f33aaa1",
   "metadata": {},
   "outputs": [],
   "source": [
    "x = 12.5"
   ]
  },
  {
   "cell_type": "code",
   "execution_count": 13,
   "id": "e30b6723-e560-4fdd-b2ee-9210222a8d12",
   "metadata": {},
   "outputs": [],
   "source": [
    "y= 4.4"
   ]
  },
  {
   "cell_type": "code",
   "execution_count": 14,
   "id": "8693b3fd-886e-4d39-baf3-97b6225a0807",
   "metadata": {},
   "outputs": [
    {
     "data": {
      "text/plain": [
       "2.840909090909091"
      ]
     },
     "execution_count": 14,
     "metadata": {},
     "output_type": "execute_result"
    }
   ],
   "source": [
    "x/y"
   ]
  },
  {
   "cell_type": "markdown",
   "id": "43e13617-b5fa-4f20-869e-d9be67f7a7aa",
   "metadata": {},
   "source": [
    "## 02.3 Construct a short word made of separate strings"
   ]
  },
  {
   "cell_type": "code",
   "execution_count": 15,
   "id": "e096f63b-03d5-4ca8-aaff-9b99232ac8c8",
   "metadata": {},
   "outputs": [],
   "source": [
    "x = 'wor'"
   ]
  },
  {
   "cell_type": "code",
   "execution_count": 16,
   "id": "c3568ee8-a5f7-4243-8d53-43f56cd6dfd4",
   "metadata": {},
   "outputs": [],
   "source": [
    "y = 'd'"
   ]
  },
  {
   "cell_type": "code",
   "execution_count": 17,
   "id": "7714dcd1-0a59-46e5-bf1e-4942826a9a1b",
   "metadata": {},
   "outputs": [
    {
     "data": {
      "text/plain": [
       "'word'"
      ]
     },
     "execution_count": 17,
     "metadata": {},
     "output_type": "execute_result"
    }
   ],
   "source": [
    "x+y"
   ]
  },
  {
   "cell_type": "markdown",
   "id": "8dff7591-0134-43dd-a660-a288a15ef648",
   "metadata": {},
   "source": [
    "## 02.4 Construct 2 short sentences made of separate strings"
   ]
  },
  {
   "cell_type": "code",
   "execution_count": 18,
   "id": "d9b327b1-122d-48e6-aea7-617fb60d357f",
   "metadata": {},
   "outputs": [],
   "source": [
    "x = 'I '"
   ]
  },
  {
   "cell_type": "code",
   "execution_count": 19,
   "id": "67271880-d3d3-49e3-ac1f-8cc1ea336bdc",
   "metadata": {},
   "outputs": [],
   "source": [
    "y = 'can '"
   ]
  },
  {
   "cell_type": "code",
   "execution_count": 24,
   "id": "d71eafae-a94e-430f-b9d4-30ed8ef650f4",
   "metadata": {},
   "outputs": [],
   "source": [
    "z = 'code'"
   ]
  },
  {
   "cell_type": "code",
   "execution_count": 26,
   "id": "23506325-048f-494d-8ca3-849610b5b552",
   "metadata": {},
   "outputs": [
    {
     "data": {
      "text/plain": [
       "'can I code?'"
      ]
     },
     "execution_count": 26,
     "metadata": {},
     "output_type": "execute_result"
    }
   ],
   "source": [
    "y+x+z+'?'"
   ]
  },
  {
   "cell_type": "code",
   "execution_count": 27,
   "id": "e8697d63-ca30-487e-a6ee-8e5e6eab3e94",
   "metadata": {},
   "outputs": [
    {
     "data": {
      "text/plain": [
       "'I can code.'"
      ]
     },
     "execution_count": 27,
     "metadata": {},
     "output_type": "execute_result"
    }
   ],
   "source": [
    "x+y+z+'.'"
   ]
  },
  {
   "cell_type": "code",
   "execution_count": 28,
   "id": "f8689ca2-934d-476b-b8f7-88014f73f878",
   "metadata": {},
   "outputs": [
    {
     "data": {
      "text/plain": [
       "'I can I can I can I can I can I can I can I can I can I can I can I can I can I can I can I can I can I can I can I can I can I can I can I can I can I can I can I can I can I can I can I can I can I can I can I can I can I can I can I can I can I can I can I can I can I can I can I can I can I can I can I can I can I can I can I can I can I can I can I can I can I can I can I can I can I can I can I can I can I can I can I can I can I can I can I can I can I can I can I can I can I can I can I can I can I can I can I can I can I can I can I can I can I can I can I can I can I can I can I can '"
      ]
     },
     "execution_count": 28,
     "metadata": {},
     "output_type": "execute_result"
    }
   ],
   "source": [
    "100*(x+y)"
   ]
  },
  {
   "cell_type": "code",
   "execution_count": null,
   "id": "282d37d7-703e-484f-87d3-3bfaf215f041",
   "metadata": {},
   "outputs": [],
   "source": []
  }
 ],
 "metadata": {
  "kernelspec": {
   "display_name": "Python 3 (ipykernel)",
   "language": "python",
   "name": "python3"
  },
  "language_info": {
   "codemirror_mode": {
    "name": "ipython",
    "version": 3
   },
   "file_extension": ".py",
   "mimetype": "text/x-python",
   "name": "python",
   "nbconvert_exporter": "python",
   "pygments_lexer": "ipython3",
   "version": "3.11.7"
  }
 },
 "nbformat": 4,
 "nbformat_minor": 5
}
